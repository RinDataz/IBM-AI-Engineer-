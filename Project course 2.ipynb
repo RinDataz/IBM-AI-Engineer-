{
  "nbformat": 4,
  "nbformat_minor": 0,
  "metadata": {
    "colab": {
      "provenance": [],
      "authorship_tag": "ABX9TyPpBQROAOxHYgOt8HROkhF3",
      "include_colab_link": true
    },
    "kernelspec": {
      "name": "python3",
      "display_name": "Python 3"
    },
    "language_info": {
      "name": "python"
    }
  },
  "cells": [
    {
      "cell_type": "markdown",
      "metadata": {
        "id": "view-in-github",
        "colab_type": "text"
      },
      "source": [
        "<a href=\"https://colab.research.google.com/github/RinDataz/IBM-AI-Engineer-/blob/main/Project%20course%202.ipynb\" target=\"_parent\"><img src=\"https://colab.research.google.com/assets/colab-badge.svg\" alt=\"Open In Colab\"/></a>"
      ]
    },
    {
      "cell_type": "code",
      "execution_count": 1,
      "metadata": {
        "colab": {
          "base_uri": "https://localhost:8080/"
        },
        "id": "8GAVOF7Zmd43",
        "outputId": "f9643923-1a79-4696-bd4e-a79c2b1d40b5"
      },
      "outputs": [
        {
          "output_type": "stream",
          "name": "stdout",
          "text": [
            "Requirement already satisfied: keras in /usr/local/lib/python3.10/dist-packages (2.15.0)\n"
          ]
        }
      ],
      "source": [
        "!pip install keras\n"
      ]
    },
    {
      "cell_type": "code",
      "source": [
        "import numpy as np\n",
        "import pandas as pd\n",
        "from sklearn.model_selection import train_test_split\n",
        "from sklearn.metrics import mean_squared_error\n",
        "from keras.models import Sequential\n",
        "from keras.layers import Dense\n",
        "from keras.optimizers import Adam"
      ],
      "metadata": {
        "id": "pPECoNYnmlp4"
      },
      "execution_count": 2,
      "outputs": []
    },
    {
      "cell_type": "markdown",
      "source": [
        "# A. Build a baseline model (5 marks)"
      ],
      "metadata": {
        "id": "oJmOLo7xoLvH"
      }
    },
    {
      "cell_type": "code",
      "source": [
        "# Assuming `data` is a pandas DataFrame with the feature columns and the target column 'concrete_strength'\n",
        "# Replace 'data' with your actual DataFrame\n",
        "\n",
        "data = pd.read_csv('concrete_data.csv')\n",
        "# Define the features and target\n",
        "X = data.drop(columns=['Strength'])\n",
        "y = data['Strength']\n",
        "\n",
        "# Define a function to create and compile the model\n",
        "def create_model():\n",
        "    model = Sequential()\n",
        "    model.add(Dense(10, input_dim=X.shape[1], activation='relu'))\n",
        "    model.add(Dense(1))\n",
        "    model.compile(optimizer=Adam(), loss='mean_squared_error')\n",
        "    return model\n",
        "\n",
        "# Store the mean squared errors\n",
        "mse_list = []\n",
        "\n",
        "# Repeat the process 50 times\n",
        "for _ in range(50):\n",
        "    # Split the data into training and testing sets\n",
        "    X_train, X_test, y_train, y_test = train_test_split(X, y, test_size=0.3, random_state=None)\n",
        "\n",
        "    # Create and train the model\n",
        "    model = create_model()\n",
        "    model.fit(X_train, y_train, epochs=50, verbose=0)\n",
        "\n",
        "    # Predict on the test set\n",
        "    y_pred = model.predict(X_test)\n",
        "\n",
        "    # Compute the mean squared error\n",
        "    mse = mean_squared_error(y_test, y_pred)\n",
        "    mse_list.append(mse)\n",
        "\n",
        "# Compute the mean and standard deviation of the mean squared errors\n",
        "mean_mse = np.mean(mse_list)\n",
        "std_mse = np.std(mse_list)\n",
        "\n",
        "print(f\"Mean MSE: {mean_mse}\")\n",
        "print(f\"Standard Deviation of MSE: {std_mse}\")\n"
      ],
      "metadata": {
        "colab": {
          "base_uri": "https://localhost:8080/"
        },
        "id": "CMnwTguPmxIA",
        "outputId": "e47058aa-43cb-43d4-8fce-7ed0cc8d6e34"
      },
      "execution_count": 4,
      "outputs": [
        {
          "output_type": "stream",
          "name": "stdout",
          "text": [
            "10/10 [==============================] - 0s 2ms/step\n",
            "10/10 [==============================] - 0s 2ms/step\n",
            "10/10 [==============================] - 0s 3ms/step\n",
            "10/10 [==============================] - 0s 2ms/step\n",
            "10/10 [==============================] - 0s 2ms/step\n",
            "10/10 [==============================] - 0s 3ms/step\n",
            "10/10 [==============================] - 0s 3ms/step\n",
            "10/10 [==============================] - 0s 2ms/step\n",
            "10/10 [==============================] - 0s 2ms/step\n",
            "10/10 [==============================] - 0s 2ms/step\n",
            "10/10 [==============================] - 0s 2ms/step\n",
            "10/10 [==============================] - 0s 2ms/step\n",
            "10/10 [==============================] - 0s 2ms/step\n",
            "10/10 [==============================] - 0s 2ms/step\n",
            "10/10 [==============================] - 0s 2ms/step\n",
            "10/10 [==============================] - 0s 2ms/step\n",
            "10/10 [==============================] - 0s 2ms/step\n",
            "10/10 [==============================] - 0s 2ms/step\n",
            "10/10 [==============================] - 0s 2ms/step\n",
            "10/10 [==============================] - 0s 3ms/step\n",
            "10/10 [==============================] - 0s 2ms/step\n",
            "10/10 [==============================] - 0s 2ms/step\n",
            "10/10 [==============================] - 0s 2ms/step\n",
            "10/10 [==============================] - 0s 2ms/step\n",
            "10/10 [==============================] - 0s 2ms/step\n",
            "10/10 [==============================] - 0s 2ms/step\n",
            "10/10 [==============================] - 0s 3ms/step\n",
            "10/10 [==============================] - 0s 2ms/step\n",
            "10/10 [==============================] - 0s 3ms/step\n",
            "10/10 [==============================] - 0s 2ms/step\n",
            "10/10 [==============================] - 0s 2ms/step\n",
            "10/10 [==============================] - 0s 2ms/step\n",
            "10/10 [==============================] - 0s 2ms/step\n",
            "10/10 [==============================] - 0s 2ms/step\n",
            "10/10 [==============================] - 0s 2ms/step\n",
            "10/10 [==============================] - 0s 2ms/step\n",
            "10/10 [==============================] - 0s 2ms/step\n",
            "10/10 [==============================] - 0s 2ms/step\n",
            "10/10 [==============================] - 0s 2ms/step\n",
            "10/10 [==============================] - 0s 2ms/step\n",
            "10/10 [==============================] - 0s 2ms/step\n",
            "10/10 [==============================] - 0s 2ms/step\n",
            "10/10 [==============================] - 0s 2ms/step\n",
            "10/10 [==============================] - 0s 2ms/step\n",
            "10/10 [==============================] - 0s 2ms/step\n",
            "10/10 [==============================] - 0s 2ms/step\n",
            "10/10 [==============================] - 0s 2ms/step\n",
            "10/10 [==============================] - 0s 2ms/step\n",
            "10/10 [==============================] - 0s 2ms/step\n",
            "10/10 [==============================] - 0s 2ms/step\n",
            "Mean MSE: 287.9223154152938\n",
            "Standard Deviation of MSE: 277.8634778668784\n"
          ]
        }
      ]
    },
    {
      "cell_type": "markdown",
      "source": [
        "**Mean MSE:** 287.9223154152938\n",
        "\n",
        "**Standard Deviation of MSE:** 277.8634778668784\n"
      ],
      "metadata": {
        "id": "jUsDg4C5oAtI"
      }
    },
    {
      "cell_type": "markdown",
      "source": [
        "# B. Normalize the data (5 marks)"
      ],
      "metadata": {
        "id": "Bsf9fqykoirt"
      }
    },
    {
      "cell_type": "code",
      "source": [
        "# Normalize the data\n",
        "X_normalized = (X - X.mean()) / X.std()\n",
        "\n",
        "# Define a function to create and compile the model with normalized data\n",
        "def create_normalized_model():\n",
        "    model = Sequential()\n",
        "    model.add(Dense(10, input_dim=X_normalized.shape[1], activation='relu'))\n",
        "    model.add(Dense(1))\n",
        "    model.compile(optimizer=Adam(), loss='mean_squared_error')\n",
        "    return model\n",
        "\n",
        "# Store the mean squared errors for normalized data\n",
        "normalized_mse_list = []\n",
        "\n",
        "# Repeat the process 50 times for normalized data\n",
        "for _ in range(50):\n",
        "    # Split the normalized data into training and testing sets\n",
        "    X_train_norm, X_test_norm, y_train_norm, y_test_norm = train_test_split(X_normalized, y, test_size=0.3, random_state=None)\n",
        "\n",
        "    # Create and train the model with normalized data\n",
        "    normalized_model = create_normalized_model()\n",
        "    normalized_model.fit(X_train_norm, y_train_norm, epochs=50, verbose=0)\n",
        "\n",
        "    # Predict on the test set with normalized data\n",
        "    y_pred_norm = normalized_model.predict(X_test_norm)\n",
        "\n",
        "    # Compute the mean squared error for normalized data\n",
        "    mse_norm = mean_squared_error(y_test_norm, y_pred_norm)\n",
        "    normalized_mse_list.append(mse_norm)\n",
        "\n",
        "# Compute the mean and standard deviation of the mean squared errors for normalized data\n",
        "mean_mse_normalized = np.mean(normalized_mse_list)\n",
        "std_mse_normalized = np.std(normalized_mse_list)\n",
        "\n",
        "print(f\"Mean MSE for normalized data: {mean_mse_normalized}\")\n",
        "print(f\"Standard Deviation of MSE for normalized data: {std_mse_normalized}\")\n"
      ],
      "metadata": {
        "colab": {
          "base_uri": "https://localhost:8080/"
        },
        "id": "RguHszwvolVS",
        "outputId": "acedbc78-b85e-46a9-9e3b-5b8e7ea68547"
      },
      "execution_count": 5,
      "outputs": [
        {
          "output_type": "stream",
          "name": "stdout",
          "text": [
            "10/10 [==============================] - 0s 2ms/step\n",
            "10/10 [==============================] - 0s 2ms/step\n",
            "10/10 [==============================] - 0s 2ms/step\n",
            "10/10 [==============================] - 0s 2ms/step\n",
            "10/10 [==============================] - 0s 2ms/step\n",
            "10/10 [==============================] - 0s 2ms/step\n",
            "10/10 [==============================] - 0s 2ms/step\n",
            "10/10 [==============================] - 0s 2ms/step\n",
            "10/10 [==============================] - 0s 2ms/step\n",
            "10/10 [==============================] - 0s 2ms/step\n",
            "10/10 [==============================] - 0s 2ms/step\n",
            "10/10 [==============================] - 0s 2ms/step\n",
            "10/10 [==============================] - 0s 2ms/step\n",
            "10/10 [==============================] - 0s 2ms/step\n",
            "10/10 [==============================] - 0s 2ms/step\n",
            "10/10 [==============================] - 0s 2ms/step\n",
            "10/10 [==============================] - 0s 3ms/step\n",
            "10/10 [==============================] - 0s 2ms/step\n",
            "10/10 [==============================] - 0s 2ms/step\n",
            "10/10 [==============================] - 0s 2ms/step\n",
            "10/10 [==============================] - 0s 2ms/step\n",
            "10/10 [==============================] - 0s 2ms/step\n",
            "10/10 [==============================] - 0s 2ms/step\n",
            "10/10 [==============================] - 0s 2ms/step\n",
            "10/10 [==============================] - 0s 2ms/step\n",
            "10/10 [==============================] - 0s 2ms/step\n",
            "10/10 [==============================] - 0s 2ms/step\n",
            "10/10 [==============================] - 0s 2ms/step\n",
            "10/10 [==============================] - 0s 2ms/step\n",
            "10/10 [==============================] - 0s 2ms/step\n",
            "10/10 [==============================] - 0s 2ms/step\n",
            "10/10 [==============================] - 0s 2ms/step\n",
            "10/10 [==============================] - 0s 2ms/step\n",
            "10/10 [==============================] - 0s 2ms/step\n",
            "10/10 [==============================] - 0s 2ms/step\n",
            "10/10 [==============================] - 0s 2ms/step\n",
            "10/10 [==============================] - 0s 2ms/step\n",
            "10/10 [==============================] - 0s 2ms/step\n",
            "10/10 [==============================] - 0s 2ms/step\n",
            "10/10 [==============================] - 0s 2ms/step\n",
            "10/10 [==============================] - 0s 2ms/step\n",
            "10/10 [==============================] - 0s 2ms/step\n",
            "10/10 [==============================] - 0s 3ms/step\n",
            "10/10 [==============================] - 0s 2ms/step\n",
            "10/10 [==============================] - 0s 2ms/step\n",
            "10/10 [==============================] - 0s 2ms/step\n",
            "10/10 [==============================] - 0s 2ms/step\n",
            "10/10 [==============================] - 0s 2ms/step\n",
            "10/10 [==============================] - 0s 2ms/step\n",
            "10/10 [==============================] - 0s 2ms/step\n",
            "Mean MSE for normalized data: 355.54742622846663\n",
            "Standard Deviation of MSE for normalized data: 120.13256149155097\n"
          ]
        }
      ]
    },
    {
      "cell_type": "markdown",
      "source": [
        " Mean MSE for normalized data: 355.54742622846663\n",
        "\n",
        " Standard Deviation of MSE for normalized data:  120.13256149155097"
      ],
      "metadata": {
        "id": "cjw0tuQ_phD3"
      }
    },
    {
      "cell_type": "markdown",
      "source": [
        "# C. Increate the number of epochs (5 marks)"
      ],
      "metadata": {
        "id": "-P9y9mropXvD"
      }
    },
    {
      "cell_type": "code",
      "source": [
        "# Store the mean squared errors for increased epochs\n",
        "increased_epochs_mse_list = []\n",
        "\n",
        "# Repeat the process 50 times for increased epochs\n",
        "for _ in range(50):\n",
        "    # Split the normalized data into training and testing sets\n",
        "    X_train_norm, X_test_norm, y_train_norm, y_test_norm = train_test_split(X_normalized, y, test_size=0.3, random_state=None)\n",
        "\n",
        "    # Create and train the model with increased epochs\n",
        "    increased_epochs_model = create_normalized_model()\n",
        "    increased_epochs_model.fit(X_train_norm, y_train_norm, epochs=100, verbose=0)\n",
        "\n",
        "    # Predict on the test set with increased epochs\n",
        "    y_pred_increased_epochs = increased_epochs_model.predict(X_test_norm)\n",
        "\n",
        "    # Compute the mean squared error for increased epochs\n",
        "    mse_increased_epochs = mean_squared_error(y_test_norm, y_pred_increased_epochs)\n",
        "    increased_epochs_mse_list.append(mse_increased_epochs)\n",
        "\n",
        "# Compute the mean and standard deviation of the mean squared errors for increased epochs\n",
        "mean_mse_increased_epochs = np.mean(increased_epochs_mse_list)\n",
        "std_mse_increased_epochs = np.std(increased_epochs_mse_list)\n",
        "\n",
        "print(f\"Mean MSE for increased epochs: {mean_mse_increased_epochs}\")\n",
        "print(f\"Standard Deviation of MSE for increased epochs: {std_mse_increased_epochs}\")\n"
      ],
      "metadata": {
        "colab": {
          "base_uri": "https://localhost:8080/"
        },
        "id": "ygQ4kVAvpbI6",
        "outputId": "822de78a-0b50-453c-cbd1-6a1a34ad3af8"
      },
      "execution_count": 6,
      "outputs": [
        {
          "output_type": "stream",
          "name": "stdout",
          "text": [
            "10/10 [==============================] - 0s 3ms/step\n",
            "10/10 [==============================] - 0s 2ms/step\n",
            "10/10 [==============================] - 0s 2ms/step\n",
            "10/10 [==============================] - 0s 2ms/step\n",
            "10/10 [==============================] - 0s 3ms/step\n",
            "10/10 [==============================] - 0s 2ms/step\n",
            "10/10 [==============================] - 0s 2ms/step\n",
            "10/10 [==============================] - 0s 2ms/step\n",
            "10/10 [==============================] - 0s 2ms/step\n",
            "10/10 [==============================] - 0s 2ms/step\n",
            "10/10 [==============================] - 0s 2ms/step\n",
            "10/10 [==============================] - 0s 2ms/step\n",
            "10/10 [==============================] - 0s 3ms/step\n",
            "10/10 [==============================] - 0s 2ms/step\n",
            "10/10 [==============================] - 0s 2ms/step\n",
            "10/10 [==============================] - 0s 2ms/step\n",
            "10/10 [==============================] - 0s 2ms/step\n",
            "10/10 [==============================] - 0s 2ms/step\n",
            "10/10 [==============================] - 0s 2ms/step\n",
            "10/10 [==============================] - 0s 2ms/step\n",
            "10/10 [==============================] - 0s 2ms/step\n",
            "10/10 [==============================] - 0s 2ms/step\n",
            "10/10 [==============================] - 0s 2ms/step\n",
            "10/10 [==============================] - 0s 2ms/step\n",
            "10/10 [==============================] - 0s 2ms/step\n",
            "10/10 [==============================] - 0s 2ms/step\n",
            "10/10 [==============================] - 0s 2ms/step\n",
            "10/10 [==============================] - 0s 2ms/step\n",
            "10/10 [==============================] - 0s 2ms/step\n",
            "10/10 [==============================] - 0s 2ms/step\n",
            "10/10 [==============================] - 0s 2ms/step\n",
            "10/10 [==============================] - 0s 3ms/step\n",
            "10/10 [==============================] - 0s 2ms/step\n",
            "10/10 [==============================] - 0s 2ms/step\n",
            "10/10 [==============================] - 0s 2ms/step\n",
            "10/10 [==============================] - 0s 2ms/step\n",
            "10/10 [==============================] - 0s 2ms/step\n",
            "10/10 [==============================] - 0s 2ms/step\n",
            "10/10 [==============================] - 0s 2ms/step\n",
            "10/10 [==============================] - 0s 2ms/step\n",
            "10/10 [==============================] - 0s 2ms/step\n",
            "10/10 [==============================] - 0s 2ms/step\n",
            "10/10 [==============================] - 0s 2ms/step\n",
            "10/10 [==============================] - 0s 2ms/step\n",
            "10/10 [==============================] - 0s 2ms/step\n",
            "10/10 [==============================] - 0s 2ms/step\n",
            "10/10 [==============================] - 0s 2ms/step\n",
            "10/10 [==============================] - 0s 2ms/step\n",
            "10/10 [==============================] - 0s 2ms/step\n",
            "10/10 [==============================] - 0s 2ms/step\n",
            "Mean MSE for increased epochs: 165.37019767987388\n",
            "Standard Deviation of MSE for increased epochs: 18.57821338950984\n"
          ]
        }
      ]
    },
    {
      "cell_type": "markdown",
      "source": [
        "Mean MSE for increased epochs: 165.37019767987388\n",
        "\n",
        "Standard Deviation of MSE for increased epochs: 18.57821338950984"
      ],
      "metadata": {
        "id": "SafwIDAmqIkc"
      }
    },
    {
      "cell_type": "markdown",
      "source": [
        "# D. Increase the number of hidden layers (5 marks)"
      ],
      "metadata": {
        "id": "F-C3DOBMp7LT"
      }
    },
    {
      "cell_type": "code",
      "source": [
        "# Define a function to create and compile the model with three hidden layers\n",
        "def create_model_three_hidden_layers():\n",
        "    model = Sequential()\n",
        "    model.add(Dense(10, input_dim=X_normalized.shape[1], activation='relu'))\n",
        "    model.add(Dense(10, activation='relu'))\n",
        "    model.add(Dense(10, activation='relu'))\n",
        "    model.add(Dense(1))\n",
        "    model.compile(optimizer=Adam(), loss='mean_squared_error')\n",
        "    return model\n",
        "\n",
        "# Store the mean squared errors for three hidden layers\n",
        "three_hidden_layers_mse_list = []\n",
        "\n",
        "# Repeat the process 50 times for three hidden layers\n",
        "for _ in range(50):\n",
        "    # Split the normalized data into training and testing sets\n",
        "    X_train_three_hidden_layers, X_test_three_hidden_layers, y_train_three_hidden_layers, y_test_three_hidden_layers = train_test_split(X_normalized, y, test_size=0.3, random_state=None)\n",
        "\n",
        "    # Create and train the model with three hidden layers\n",
        "    three_hidden_layers_model = create_model_three_hidden_layers()\n",
        "    three_hidden_layers_model.fit(X_train_three_hidden_layers, y_train_three_hidden_layers, epochs=50, verbose=0)\n",
        "\n",
        "    # Predict on the test set with three hidden layers\n",
        "    y_pred_three_hidden_layers = three_hidden_layers_model.predict(X_test_three_hidden_layers)\n",
        "\n",
        "    # Compute the mean squared error for three hidden layers\n",
        "    mse_three_hidden_layers = mean_squared_error(y_test_three_hidden_layers, y_pred_three_hidden_layers)\n",
        "    three_hidden_layers_mse_list.append(mse_three_hidden_layers)\n",
        "\n",
        "# Compute the mean and standard deviation of the mean squared errors for three hidden layers\n",
        "mean_mse_three_hidden_layers = np.mean(three_hidden_layers_mse_list)\n",
        "std_mse_three_hidden_layers = np.std(three_hidden_layers_mse_list)\n",
        "\n",
        "print(f\"Mean MSE for three hidden layers: {mean_mse_three_hidden_layers}\")\n",
        "print(f\"Standard Deviation of MSE for three hidden layers: {std_mse_three_hidden_layers}\")\n"
      ],
      "metadata": {
        "colab": {
          "base_uri": "https://localhost:8080/"
        },
        "id": "OooYKPSAp-Ge",
        "outputId": "3d9864ee-457e-4936-fd91-2b91153e843c"
      },
      "execution_count": 7,
      "outputs": [
        {
          "output_type": "stream",
          "name": "stdout",
          "text": [
            "10/10 [==============================] - 0s 2ms/step\n",
            "10/10 [==============================] - 0s 2ms/step\n",
            "10/10 [==============================] - 0s 2ms/step\n",
            "10/10 [==============================] - 0s 2ms/step\n",
            "10/10 [==============================] - 0s 2ms/step\n",
            "10/10 [==============================] - 0s 2ms/step\n",
            "10/10 [==============================] - 0s 3ms/step\n",
            "10/10 [==============================] - 0s 2ms/step\n",
            "10/10 [==============================] - 0s 2ms/step\n",
            "10/10 [==============================] - 0s 2ms/step\n",
            "10/10 [==============================] - 0s 3ms/step\n",
            "10/10 [==============================] - 0s 2ms/step\n",
            "10/10 [==============================] - 0s 2ms/step\n",
            "10/10 [==============================] - 0s 2ms/step\n",
            "10/10 [==============================] - 0s 2ms/step\n",
            "10/10 [==============================] - 0s 2ms/step\n",
            "10/10 [==============================] - 0s 2ms/step\n",
            "10/10 [==============================] - 0s 2ms/step\n",
            "10/10 [==============================] - 0s 2ms/step\n",
            "10/10 [==============================] - 0s 2ms/step\n",
            "10/10 [==============================] - 0s 2ms/step\n",
            "10/10 [==============================] - 0s 3ms/step\n",
            "10/10 [==============================] - 0s 2ms/step\n",
            "10/10 [==============================] - 0s 2ms/step\n",
            "10/10 [==============================] - 0s 2ms/step\n",
            "10/10 [==============================] - 0s 2ms/step\n",
            "10/10 [==============================] - 0s 2ms/step\n",
            "10/10 [==============================] - 0s 2ms/step\n",
            "10/10 [==============================] - 0s 2ms/step\n",
            "10/10 [==============================] - 0s 3ms/step\n",
            "10/10 [==============================] - 0s 2ms/step\n",
            "10/10 [==============================] - 0s 2ms/step\n",
            "10/10 [==============================] - 0s 3ms/step\n",
            "10/10 [==============================] - 0s 2ms/step\n",
            "10/10 [==============================] - 0s 2ms/step\n",
            "10/10 [==============================] - 0s 2ms/step\n",
            "10/10 [==============================] - 0s 2ms/step\n",
            "10/10 [==============================] - 0s 2ms/step\n",
            "10/10 [==============================] - 0s 2ms/step\n",
            "10/10 [==============================] - 0s 2ms/step\n",
            "10/10 [==============================] - 0s 3ms/step\n",
            "10/10 [==============================] - 0s 2ms/step\n",
            "10/10 [==============================] - 0s 2ms/step\n",
            "10/10 [==============================] - 0s 2ms/step\n",
            "10/10 [==============================] - 0s 2ms/step\n",
            "10/10 [==============================] - 0s 2ms/step\n",
            "10/10 [==============================] - 0s 2ms/step\n",
            "10/10 [==============================] - 0s 2ms/step\n",
            "10/10 [==============================] - 0s 2ms/step\n",
            "10/10 [==============================] - 0s 2ms/step\n",
            "Mean MSE for three hidden layers: 128.93370039880992\n",
            "Standard Deviation of MSE for three hidden layers: 13.519949465499607\n"
          ]
        }
      ]
    },
    {
      "cell_type": "markdown",
      "source": [
        "Mean MSE for three hidden layers: 128.93370039880992\n",
        "\n",
        "Standard Deviation of MSE for three hidden layers: 13.519949465499607"
      ],
      "metadata": {
        "id": "iif8iz2EqKH7"
      }
    }
  ]
}